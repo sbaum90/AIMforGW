{
 "cells": [
  {
   "cell_type": "code",
   "execution_count": 1,
   "id": "b1b64cce",
   "metadata": {},
   "outputs": [],
   "source": [
    "import pickle\n",
    "import numpy as np\n",
    "\n",
    "import matplotlib.pyplot as plt\n",
    "plt.rc('text', usetex=True)\n",
    "plt.rc('font', family='serif')"
   ]
  },
  {
   "cell_type": "markdown",
   "id": "70cb2396",
   "metadata": {},
   "source": [
    "# Load the results from the four examples in AIMforGW"
   ]
  },
  {
   "cell_type": "code",
   "execution_count": 3,
   "id": "74cb7a49",
   "metadata": {},
   "outputs": [],
   "source": [
    "results = []\n",
    "\n",
    "with open('ExampleOutput/results_Example_SpaceAI/data.pkl', 'rb') as inp:\n",
    "    results.append(pickle.load(inp))\n",
    "\n",
    "with open('ExampleOutput/results_Example_GroundAI/data.pkl', 'rb') as inp:\n",
    "    results.append(pickle.load(inp))\n",
    "    \n",
    "with open('ExampleOutput/results_Example_LO_SpaceAI/data.pkl', 'rb') as inp:\n",
    "    results.append(pickle.load(inp))\n",
    "    \n",
    "with open('ExampleOutput/results_Example_LO_GroundAI/data.pkl', 'rb') as inp:\n",
    "    results.append(pickle.load(inp))"
   ]
  },
  {
   "cell_type": "markdown",
   "id": "ed61dfd4",
   "metadata": {},
   "source": [
    "# print some info about each run"
   ]
  },
  {
   "cell_type": "code",
   "execution_count": 22,
   "id": "b4a9c347",
   "metadata": {},
   "outputs": [
    {
     "name": "stdout",
     "output_type": "stream",
     "text": [
      "chirp mass [Msol] =  25.0\n",
      "mass ratio q = m_1/m_2 =  1.15\n",
      "lumi distance [Mpc] =  100.0\n",
      "inclination angle iota [deg] =  45.0\n",
      "polarization angle psi [deg] =  59.99999999999999\n",
      "reference phase phi_0 [deg] =  0.0\n",
      "sky position RA [deg] ] =  59.99999999999999\n",
      "sky position DEC [deg] ] =  6.600000000000001\n",
      "time of merger after solar equinox [sec] =  0.0\n"
     ]
    }
   ],
   "source": [
    "# print some parameters for the source\n",
    "\n",
    "# select result\n",
    "res = results[0]\n",
    "\n",
    "print('chirp mass [Msol] = ', res.source_Mc)\n",
    "print('mass ratio q = m_1/m_2 = ', res.source_q)\n",
    "print('lumi distance [Mpc] = ', res.source_dL)\n",
    "print('inclination angle iota [deg] = ', res.source_iota*180/np.pi)\n",
    "print('polarization angle psi [deg] = ', res.source_psi*180/np.pi)\n",
    "print('reference phase phi_0 [deg] = ', res.source_phi0*180/np.pi)\n",
    "print('sky position RA [deg] ] = ', res.source_RA*180/np.pi)\n",
    "print('sky position DEC [deg] ] = ', res.source_DEC*180/np.pi)\n",
    "print('time of merger after solar equinox [sec] = ', res.source_tc)"
   ]
  },
  {
   "cell_type": "code",
   "execution_count": 27,
   "id": "da55317f",
   "metadata": {},
   "outputs": [
    {
     "name": "stdout",
     "output_type": "stream",
     "text": [
      "smallest frequency considered [Hz] =  0.03\n",
      "largest frequency considered [Hz] =  4.0\n",
      "radius of the orbit of the center of the baseline around Earth [m] =  8440000.0\n",
      "orbital period of the detector [s] =  28148.120518364693\n",
      "reference time for fixing orbit of satellite around Earth [seconds after vernal equinox] =  7889537.385\n",
      "right ascension of the satellite at reference time [rad] =  1.5707963267948966\n",
      "declination of the satellite at reference time [rad] =  -0.40840704496667307\n"
     ]
    }
   ],
   "source": [
    "# print some detector parameters; space detector\n",
    "\n",
    "# select result\n",
    "res = results[0]\n",
    "\n",
    "print('smallest frequency considered [Hz] = ', res.detector_fGWmin)\n",
    "print('largest frequency considered [Hz] = ', res.detector_fGWmax)\n",
    "print('radius of the orbit of the center of the baseline around Earth [m] = ', res.detector_orbit_R)\n",
    "print('orbital period of the detector [s] = ', res.detector_orbit_period)\n",
    "print('reference time for fixing orbit of satellite around Earth [seconds after vernal equinox] = ', res.detector_orbit_t0)\n",
    "print('right ascension of the satellite at reference time [rad] = ', res.detector_orbit_RA0)\n",
    "print('declination of the satellite at reference time [rad] = ', res.detector_orbit_DEC0)"
   ]
  },
  {
   "cell_type": "code",
   "execution_count": 29,
   "id": "a099af26",
   "metadata": {},
   "outputs": [
    {
     "name": "stdout",
     "output_type": "stream",
     "text": [
      "smallest frequency considered [Hz] =  0.45\n",
      "largest frequency considered [Hz] =  12.0\n",
      "reference time for setting positions of detectors [seconds after vernal equinox] =  0.0\n",
      "(list of) right ascension of detector positions in geocentric equatorial coordinates [rad] =  [4.47153354 1.97222205 0.35081118]\n",
      "(list of) declination of detector positions in geocentric equatorial coordinates [rad] =  [0.77492619 0.48869219 1.13271868]\n"
     ]
    }
   ],
   "source": [
    "# print some detector parameters; ground detectors\n",
    "\n",
    "# select result\n",
    "res = results[1]\n",
    "\n",
    "print('smallest frequency considered [Hz] = ', res.detector_fGWmin)\n",
    "print('largest frequency considered [Hz] = ', res.detector_fGWmax)\n",
    "print('reference time for setting positions of detectors [seconds after vernal equinox] = ', res.detector_t0)\n",
    "print('(list of) right ascension of detector positions in geocentric equatorial coordinates [rad] = ', res.detector_RA0)\n",
    "print('(list of) declination of detector positions in geocentric equatorial coordinates [rad] = ', res.detector_DEC0)"
   ]
  },
  {
   "cell_type": "markdown",
   "id": "216109c4",
   "metadata": {},
   "source": [
    "# print some of the results"
   ]
  },
  {
   "cell_type": "code",
   "execution_count": 32,
   "id": "011a9419",
   "metadata": {},
   "outputs": [
    {
     "name": "stdout",
     "output_type": "stream",
     "text": [
      "144.85821554016569941\n",
      "15.472883303150957115\n",
      "145.13127146303323889\n",
      "15.736065647628594519\n"
     ]
    }
   ],
   "source": [
    "# print SNR for each Example\n",
    "for res in results:\n",
    "    print(np.sqrt(res.SNR2))"
   ]
  },
  {
   "cell_type": "code",
   "execution_count": 33,
   "id": "87d0dd85",
   "metadata": {},
   "outputs": [
    {
     "name": "stdout",
     "output_type": "stream",
     "text": [
      "For the PN code: \n",
      "\n",
      "{ 0 : source_Mc [Msol] }\n",
      "{ 1 : source_q }\n",
      "{ 2 : source_iota [rad] }\n",
      "{ 3 : source_phi0 [rad] }\n",
      "{ 4 : source_tc [s] }\n",
      "{ 5 : source_dL [Mpc] }\n",
      "{ 6 : source_RA [rad] }\n",
      "{ 7 : source_DEC [rad] }\n",
      "{ 8 : source_psi [rad] }\n",
      " \n",
      " \n",
      " And for the LO code: \n",
      "\n",
      "{ 0 : source_Mc [Msol] }\n",
      "{ 1 : source_q }\n",
      "{ 2 : source_iota [rad] }\n",
      "{ 3 : source_phi0 [rad] }\n",
      "{ 4 : source_tc [s] }\n",
      "{ 5 : source_dL [Mpc] }\n",
      "{ 6 : source_RA [rad] }\n",
      "{ 7 : source_DEC [rad] }\n",
      "{ 8 : source_psi [rad] }\n"
     ]
    }
   ],
   "source": [
    "# print the keys for the Fisher/Covariance matrices\n",
    "\n",
    "print('For the PN code: \\n' )\n",
    "res = results[0]\n",
    "for i in range(len(res.FisherMat_key)):\n",
    "    print('{', i, ':', res.FisherMat_key[i], '}')\n",
    "    \n",
    "print(' \\n \\n And for the LO code: \\n')\n",
    "res = results[1]\n",
    "for i in range(len(res.FisherMat_key)):\n",
    "    print('{', i, ':', res.FisherMat_key[i], '}')"
   ]
  },
  {
   "cell_type": "code",
   "execution_count": 36,
   "id": "7031c2ca",
   "metadata": {},
   "outputs": [
    {
     "name": "stdout",
     "output_type": "stream",
     "text": [
      "source_Mc [Msol]\n",
      "8431474688078009.0\n",
      "source_q\n",
      "408208029.33254564\n",
      "source_iota [rad]\n",
      "18010.52685859158\n",
      "source_phi0 [rad]\n",
      "83939.7843925763\n",
      "source_tc [s]\n",
      "146933.83903400123\n",
      "source_dL [Mpc]\n",
      "2.098390256750166\n",
      "source_RA [rad]\n",
      "108291130934.16693\n",
      "source_DEC [rad]\n",
      "501527444.2157012\n",
      "source_psi [rad]\n",
      "89336.77150124735\n",
      "\n",
      "\n",
      "source_Mc [Msol]\n",
      "13070659087.11372\n",
      "source_q\n",
      "59452.60306169324\n",
      "source_iota [rad]\n",
      "129.34576712433093\n",
      "source_phi0 [rad]\n",
      "957.3899328009682\n",
      "source_tc [s]\n",
      "160608.25427019183\n",
      "source_dL [Mpc]\n",
      "0.023941011723378168\n",
      "source_RA [rad]\n",
      "53969.17539250768\n",
      "source_DEC [rad]\n",
      "63180.53568119021\n",
      "source_psi [rad]\n",
      "888.0650611854448\n",
      "\n",
      "\n",
      "source_Mc [Msol]\n",
      "170681859256658.56\n",
      "source_iota [rad]\n",
      "18060.147280724876\n",
      "source_phi0 [rad]\n",
      "21059.10599935919\n",
      "source_tc [s]\n",
      "221431.83568856076\n",
      "source_dL [Mpc]\n",
      "2.10630894693497\n",
      "source_RA [rad]\n",
      "163121837214.09714\n",
      "source_DEC [rad]\n",
      "746549096.9340696\n",
      "source_psi [rad]\n",
      "89662.90588610577\n",
      "\n",
      "\n",
      "source_Mc [Msol]\n",
      "55983386.60462865\n",
      "source_iota [rad]\n",
      "132.44422827342325\n",
      "source_phi0 [rad]\n",
      "247.7564499547437\n",
      "source_tc [s]\n",
      "494775.6534874684\n",
      "source_dL [Mpc]\n",
      "0.024762380336447377\n",
      "source_RA [rad]\n",
      "164713.4338249053\n",
      "source_DEC [rad]\n",
      "193946.37432098144\n",
      "source_psi [rad]\n",
      "918.7713654293541\n",
      "\n",
      "\n"
     ]
    }
   ],
   "source": [
    "# print the diagonal entries of the Fisher matrices\n",
    "\n",
    "for res in results:\n",
    "    for i in range(len(res.FisherMat_key)):\n",
    "        print(res.FisherMat_key[i])\n",
    "        print(res.FisherMat[i,i])\n",
    "    print('\\n')"
   ]
  },
  {
   "cell_type": "code",
   "execution_count": 37,
   "id": "97fee000",
   "metadata": {},
   "outputs": [
    {
     "name": "stdout",
     "output_type": "stream",
     "text": [
      "source_Mc [Msol]\n",
      "6.852662735060112e-07\n",
      "source_q\n",
      "0.003586253264852671\n",
      "source_iota [rad]\n",
      "0.04778353964378622\n",
      "source_phi0 [rad]\n",
      "0.10960278514177882\n",
      "source_tc [s]\n",
      "0.15054076209877956\n",
      "source_dL [Mpc]\n",
      "4.446737620555771\n",
      "source_RA [rad]\n",
      "0.0001744192946515091\n",
      "source_DEC [rad]\n",
      "0.0002451124500473772\n",
      "source_psi [rad]\n",
      "0.0677464746451956\n",
      "\n",
      "\n",
      "source_Mc [Msol]\n",
      "0.0005616381928837581\n",
      "source_q\n",
      "0.07643734797521952\n",
      "source_iota [rad]\n",
      "0.9166262004798617\n",
      "source_phi0 [rad]\n",
      "2.121663157001641\n",
      "source_tc [s]\n",
      "0.04941679283577066\n",
      "source_dL [Mpc]\n",
      "68.39520112358873\n",
      "source_RA [rad]\n",
      "0.06094601712161308\n",
      "source_DEC [rad]\n",
      "0.05934412969704141\n",
      "source_psi [rad]\n",
      "1.2306389013664725\n",
      "\n",
      "\n",
      "source_Mc [Msol]\n",
      "2.1906179996040126e-07\n",
      "source_iota [rad]\n",
      "0.047659482270835836\n",
      "source_phi0 [rad]\n",
      "0.14019524198874087\n",
      "source_tc [s]\n",
      "0.1440762361983895\n",
      "source_dL [Mpc]\n",
      "4.41342137901305\n",
      "source_RA [rad]\n",
      "0.0001643210957268285\n",
      "source_DEC [rad]\n",
      "0.0001995310104962182\n",
      "source_psi [rad]\n",
      "0.06758437210636202\n",
      "\n",
      "\n",
      "source_Mc [Msol]\n",
      "0.00023335437046684689\n",
      "source_iota [rad]\n",
      "0.9122932181900949\n",
      "source_phi0 [rad]\n",
      "2.3858182842775433\n",
      "source_tc [s]\n",
      "0.0474721074254924\n",
      "source_dL [Mpc]\n",
      "67.69375941794034\n",
      "source_RA [rad]\n",
      "0.059336888441888884\n",
      "source_DEC [rad]\n",
      "0.05848626817046755\n",
      "source_psi [rad]\n",
      "1.2379989508187736\n",
      "\n",
      "\n"
     ]
    }
   ],
   "source": [
    "# print the errors for each paramters, i.e., the sqrt of the diagonal entries of the Co-variance Matrix.\n",
    "# Here, let's use the result without any priors on the angles\n",
    "\n",
    "\n",
    "for res in results:\n",
    "    for i in range(len(res.FisherMat_key)):\n",
    "        print(res.FisherMat_key[i])\n",
    "        print(np.sqrt(res.CoVaMat[i,i]))\n",
    "    print('\\n')"
   ]
  },
  {
   "cell_type": "code",
   "execution_count": 38,
   "id": "849021ee",
   "metadata": {},
   "outputs": [
    {
     "name": "stdout",
     "output_type": "stream",
     "text": [
      "source_Mc [Msol]\n",
      "6.852638482735278e-07\n",
      "source_q\n",
      "0.00358617178344246\n",
      "source_iota [rad]\n",
      "0.047778012768656605\n",
      "source_phi0 [rad]\n",
      "0.10958350495183497\n",
      "source_tc [s]\n",
      "0.15053106795802815\n",
      "source_dL [Mpc]\n",
      "4.446239166136534\n",
      "source_RA [rad]\n",
      "0.00017440775425560436\n",
      "source_DEC [rad]\n",
      "0.00024511211143641697\n",
      "source_psi [rad]\n",
      "0.06773831802223208\n",
      "\n",
      "\n",
      "source_Mc [Msol]\n",
      "0.0005424942366312995\n",
      "source_q\n",
      "0.074904423233955\n",
      "source_iota [rad]\n",
      "0.8797816987864968\n",
      "source_phi0 [rad]\n",
      "1.994853964485241\n",
      "source_tc [s]\n",
      "0.0486969107055663\n",
      "source_dL [Mpc]\n",
      "65.63937029891078\n",
      "source_RA [rad]\n",
      "0.060220479376176736\n",
      "source_DEC [rad]\n",
      "0.0586371552111277\n",
      "source_psi [rad]\n",
      "1.1806419225125873\n",
      "\n",
      "\n",
      "source_Mc [Msol]\n",
      "2.1906160544826715e-07\n",
      "source_iota [rad]\n",
      "0.04765399849731955\n",
      "source_phi0 [rad]\n",
      "0.1401523567801646\n",
      "source_tc [s]\n",
      "0.14407622047058782\n",
      "source_dL [Mpc]\n",
      "4.412925944166467\n",
      "source_RA [rad]\n",
      "0.000164321068689562\n",
      "source_DEC [rad]\n",
      "0.0001995308685453915\n",
      "source_psi [rad]\n",
      "0.06756386536771097\n",
      "\n",
      "\n",
      "source_Mc [Msol]\n",
      "0.0002324110556153885\n",
      "source_iota [rad]\n",
      "0.8760178008412057\n",
      "source_phi0 [rad]\n",
      "2.193499201116705\n",
      "source_tc [s]\n",
      "0.046618243161057345\n",
      "source_dL [Mpc]\n",
      "65.02241251837012\n",
      "source_RA [rad]\n",
      "0.058607397005825124\n",
      "source_DEC [rad]\n",
      "0.05743537976818048\n",
      "source_psi [rad]\n",
      "1.1384899353301081\n",
      "\n",
      "\n"
     ]
    }
   ],
   "source": [
    "# print the errors for each paramters, i.e., the sqrt of the diagonal entries of the Co-variance Matrix.\n",
    "# But now, with the priors\n",
    "\n",
    "for res in results:\n",
    "    for i in range(len(res.FisherMat_key)):\n",
    "        print(res.FisherMat_key[i])\n",
    "        print(np.sqrt(res.CoVaMat_priors[i,i]))\n",
    "    print('\\n')"
   ]
  },
  {
   "cell_type": "code",
   "execution_count": 39,
   "id": "57e77675",
   "metadata": {},
   "outputs": [
    {
     "name": "stdout",
     "output_type": "stream",
     "text": [
      "0.029595560257225914\n",
      "8.584859851618317\n",
      "0.025534009801147766\n",
      "8.405279550739326\n"
     ]
    }
   ],
   "source": [
    "# let's print the results for the angular resultion we find for each case in degrees\n",
    "# First, without the priors\n",
    "for res in results:\n",
    "    print(np.sqrt(res.angular_resolution)/np.pi*180)"
   ]
  },
  {
   "cell_type": "code",
   "execution_count": 40,
   "id": "b90908eb",
   "metadata": {},
   "outputs": [
    {
     "name": "stdout",
     "output_type": "stream",
     "text": [
      "0.02959456442744469\n",
      "8.48182200149384\n",
      "0.025533996275824554\n",
      "8.275758406886276\n"
     ]
    }
   ],
   "source": [
    "# let's print the results for the angular resultion we find for each case in degrees\n",
    "# Now, with the priors\n",
    "for res in results:\n",
    "    print(np.sqrt(res.angular_resolution_priors)/np.pi*180)"
   ]
  }
 ],
 "metadata": {
  "kernelspec": {
   "display_name": "Python 3 (ipykernel)",
   "language": "python",
   "name": "python3"
  },
  "language_info": {
   "codemirror_mode": {
    "name": "ipython",
    "version": 3
   },
   "file_extension": ".py",
   "mimetype": "text/x-python",
   "name": "python",
   "nbconvert_exporter": "python",
   "pygments_lexer": "ipython3",
   "version": "3.10.12"
  }
 },
 "nbformat": 4,
 "nbformat_minor": 5
}
